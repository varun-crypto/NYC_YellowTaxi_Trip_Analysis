{
 "cells": [
  {
   "cell_type": "code",
   "execution_count": 26,
   "metadata": {},
   "outputs": [],
   "source": [
    "import pandas as pd\n",
    "\n",
    "# Load a portion of the dataset to understand its structure\n",
    "df = pd.read_csv('merged_dataset.csv')\n",
    "\n",
    "# Display the first few rows of the dataframe to understand its structure\n",
    "df.head()\n",
    "df['pickup_borough'] = df['pickup_borough'].str.replace('Staten Island', 'StatenIsland')\n",
    "df['dropoff_borough'] = df['dropoff_borough'].str.replace('Staten Island', 'StatenIsland')"
   ]
  },
  {
   "cell_type": "code",
   "execution_count": 27,
   "metadata": {},
   "outputs": [
    {
     "name": "stdout",
     "output_type": "stream",
     "text": [
      "[['medium', 'Credit_card', 'weekday', 'pickup_Manhattan', 'dropoff_Manhattan'], ['short', 'Credit_card', 'weekend', 'pickup_Manhattan', 'dropoff_Manhattan'], ['short', 'Credit_card', 'weekday', 'pickup_Manhattan', 'dropoff_Manhattan'], ['long', 'Credit_card', 'weekday', 'pickup_Queens', 'dropoff_Manhattan'], ['medium', 'Credit_card', 'weekday', 'pickup_Queens', 'dropoff_Manhattan']]\n"
     ]
    }
   ],
   "source": [
    "import pandas as pd\n",
    "\n",
    "\n",
    "\n",
    "# Discretize trip_distance into categories\n",
    "df['trip_distance_category'] = pd.cut(df['trip_distance'], bins=[0, 3, 10, float('inf')], labels=['short', 'medium', 'long'])\n",
    "\n",
    "# Update discretization for payment_type\n",
    "df['payment_type_category'] = df['payment_type'].map({\n",
    "    1: 'Credit_card',\n",
    "    2: 'Cash',\n",
    "    3: 'No_charge',\n",
    "    4: 'Dispute'\n",
    "}).fillna('Other')\n",
    "\n",
    "# Convert the 'date' column to datetime to extract the day type (weekday/weekend)\n",
    "df['date'] = pd.to_datetime(df['date'])\n",
    "df['day_type'] = df['date'].dt.dayofweek.apply(lambda x: 'weekday' if x < 5 else 'weekend')\n",
    "\n",
    "# Discretization for PRCP and SNOW\n",
    "df['PRCP_category'] = pd.cut(df['PRCP'], bins=[-0.01, 0.01, 0.1, 0.5, float('inf')], labels=['no_rain', 'light_rain', 'moderate_rain', 'heavy_rain'])\n",
    "df['SNOW_category'] = pd.cut(df['SNOW'], bins=[-0.01, 0.01, 1, 3, float('inf')], labels=['no_snow', 'light_snow', 'moderate_snow', 'heavy_snow'])\n",
    "\n",
    "# Categorize Tavg (average temperature) into cold, mild, hot\n",
    "df['Tavg_category'] = pd.cut(df['Tavg'], bins=[-float('inf'), 32, 60, float('inf')], labels=['cold', 'mild', 'hot'])\n",
    "\n",
    "# Prefixing pickup and dropoff boroughs\n",
    "df['pickup_borough'] = 'pickup_' + df['pickup_borough']\n",
    "df['dropoff_borough'] = 'dropoff_' + df['dropoff_borough']\n",
    "\n",
    "# Prepare the dataset for ARM by selecting the relevant columns\n",
    "arm_data = df[['trip_distance_category', 'payment_type_category',\n",
    "               'day_type', 'pickup_borough', 'dropoff_borough']]\n",
    "\n",
    "# Convert the dataframe into a list of transactions (lists of items)\n",
    "transactions = arm_data.apply(lambda x: x.dropna().tolist(), axis=1).tolist()\n",
    "\n",
    "# Example: Display the first few transactions to verify the preparation\n",
    "print(transactions[:5])"
   ]
  },
  {
   "cell_type": "code",
   "execution_count": 24,
   "metadata": {},
   "outputs": [
    {
     "data": {
      "text/plain": [
       "Index(['trip_distance_category', 'payment_type_category', 'day_type',\n",
       "       'PRCP_category', 'SNOW_category', 'pickup_borough', 'dropoff_borough',\n",
       "       'Tavg_category'],\n",
       "      dtype='object')"
      ]
     },
     "execution_count": 24,
     "metadata": {},
     "output_type": "execute_result"
    }
   ],
   "source": [
    "arm_data.columns"
   ]
  },
  {
   "cell_type": "code",
   "execution_count": 28,
   "metadata": {},
   "outputs": [],
   "source": [
    "max_length = max(len(transaction) for transaction in transactions)\n",
    "\n",
    "# Create a new DataFrame with a column for each possible item in the transactions\n",
    "transactions_df = pd.DataFrame([transaction + [''] * (max_length - len(transaction)) for transaction in transactions])\n",
    "\n",
    "# Save the DataFrame to a CSV, without the index and with a header indicating item positions\n",
    "transactions_df.to_csv('taxi_ARM.csv', index=False, header=False)\n",
    "\n"
   ]
  }
 ],
 "metadata": {
  "kernelspec": {
   "display_name": "base",
   "language": "python",
   "name": "python3"
  },
  "language_info": {
   "codemirror_mode": {
    "name": "ipython",
    "version": 3
   },
   "file_extension": ".py",
   "mimetype": "text/x-python",
   "name": "python",
   "nbconvert_exporter": "python",
   "pygments_lexer": "ipython3",
   "version": "3.11.5"
  }
 },
 "nbformat": 4,
 "nbformat_minor": 2
}
