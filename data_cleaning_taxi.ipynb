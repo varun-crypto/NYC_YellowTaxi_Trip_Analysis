{
 "cells": [
  {
   "cell_type": "code",
   "execution_count": 55,
   "metadata": {},
   "outputs": [],
   "source": [
    "import pandas as pd\n",
    "import pyarrow.parquet as pq\n",
    "\n",
    "# Initialize an empty DataFrame to hold all the merged data\n",
    "all_trips1 = pd.DataFrame()\n",
    "\n",
    "# Loop through each month and read each dataset\n",
    "for month in range(1, 13):\n",
    "    # Format the month to ensure it is two digits\n",
    "    month_str = f\"{month:02d}\"  # This converts numbers to two digits, e.g., 1 becomes 01\n",
    "    file_name = f\"yellow_tripdata_2022-{month_str}.parquet\"  # Construct the file name based on the month\n",
    "    \n",
    "    # Read the parquet file\n",
    "    trips = pq.read_table(file_name)\n",
    "    \n",
    "    # Convert to pandas DataFrame\n",
    "    trips = trips.to_pandas()\n",
    "    \n",
    "    # Append to the all_trips DataFrame\n",
    "    all_trips1 = pd.concat([all_trips1, trips], ignore_index=True)\n",
    "\n"
   ]
  },
  {
   "cell_type": "code",
   "execution_count": null,
   "metadata": {},
   "outputs": [],
   "source": [
    "import pandas as pd\n",
    "\n",
    "# Sample 10000 rows randomly\n",
    "all_trips = all_trips1.sample(n=10000, random_state=42)  # random_state ensures reproducibility\n",
    "\n",
    "all_trips.to_csv('sampled_taxi_data.csv', index=False)\n"
   ]
  },
  {
   "cell_type": "code",
   "execution_count": 53,
   "metadata": {},
   "outputs": [],
   "source": [
    "import pandas as pd\n",
    "import pyarrow.parquet as pq\n",
    "all_trips = pd.read_csv('sampled_taxi_data.csv')"
   ]
  },
  {
   "cell_type": "code",
   "execution_count": 54,
   "metadata": {},
   "outputs": [
    {
     "data": {
      "text/html": [
       "<div>\n",
       "<style scoped>\n",
       "    .dataframe tbody tr th:only-of-type {\n",
       "        vertical-align: middle;\n",
       "    }\n",
       "\n",
       "    .dataframe tbody tr th {\n",
       "        vertical-align: top;\n",
       "    }\n",
       "\n",
       "    .dataframe thead th {\n",
       "        text-align: right;\n",
       "    }\n",
       "</style>\n",
       "<table border=\"1\" class=\"dataframe\">\n",
       "  <thead>\n",
       "    <tr style=\"text-align: right;\">\n",
       "      <th></th>\n",
       "      <th>VendorID</th>\n",
       "      <th>tpep_pickup_datetime</th>\n",
       "      <th>tpep_dropoff_datetime</th>\n",
       "      <th>passenger_count</th>\n",
       "      <th>trip_distance</th>\n",
       "      <th>RatecodeID</th>\n",
       "      <th>store_and_fwd_flag</th>\n",
       "      <th>PULocationID</th>\n",
       "      <th>DOLocationID</th>\n",
       "      <th>payment_type</th>\n",
       "      <th>fare_amount</th>\n",
       "      <th>extra</th>\n",
       "      <th>mta_tax</th>\n",
       "      <th>tip_amount</th>\n",
       "      <th>tolls_amount</th>\n",
       "      <th>improvement_surcharge</th>\n",
       "      <th>total_amount</th>\n",
       "      <th>congestion_surcharge</th>\n",
       "      <th>airport_fee</th>\n",
       "    </tr>\n",
       "  </thead>\n",
       "  <tbody>\n",
       "    <tr>\n",
       "      <th>0</th>\n",
       "      <td>2</td>\n",
       "      <td>2022-12-14 08:57:09</td>\n",
       "      <td>2022-12-14 09:17:38</td>\n",
       "      <td>1.0</td>\n",
       "      <td>3.79</td>\n",
       "      <td>1.0</td>\n",
       "      <td>N</td>\n",
       "      <td>13</td>\n",
       "      <td>68</td>\n",
       "      <td>1</td>\n",
       "      <td>17.00</td>\n",
       "      <td>0.0</td>\n",
       "      <td>0.5</td>\n",
       "      <td>4.06</td>\n",
       "      <td>0.00</td>\n",
       "      <td>0.3</td>\n",
       "      <td>24.36</td>\n",
       "      <td>2.5</td>\n",
       "      <td>0.00</td>\n",
       "    </tr>\n",
       "    <tr>\n",
       "      <th>1</th>\n",
       "      <td>2</td>\n",
       "      <td>2022-08-28 13:22:42</td>\n",
       "      <td>2022-08-28 13:33:31</td>\n",
       "      <td>1.0</td>\n",
       "      <td>2.08</td>\n",
       "      <td>1.0</td>\n",
       "      <td>N</td>\n",
       "      <td>48</td>\n",
       "      <td>68</td>\n",
       "      <td>1</td>\n",
       "      <td>9.50</td>\n",
       "      <td>0.0</td>\n",
       "      <td>0.5</td>\n",
       "      <td>2.56</td>\n",
       "      <td>0.00</td>\n",
       "      <td>0.3</td>\n",
       "      <td>15.36</td>\n",
       "      <td>2.5</td>\n",
       "      <td>0.00</td>\n",
       "    </tr>\n",
       "    <tr>\n",
       "      <th>2</th>\n",
       "      <td>2</td>\n",
       "      <td>2022-07-29 18:28:00</td>\n",
       "      <td>2022-07-29 18:45:10</td>\n",
       "      <td>3.0</td>\n",
       "      <td>2.08</td>\n",
       "      <td>1.0</td>\n",
       "      <td>N</td>\n",
       "      <td>233</td>\n",
       "      <td>50</td>\n",
       "      <td>1</td>\n",
       "      <td>12.00</td>\n",
       "      <td>1.0</td>\n",
       "      <td>0.5</td>\n",
       "      <td>2.00</td>\n",
       "      <td>0.00</td>\n",
       "      <td>0.3</td>\n",
       "      <td>18.30</td>\n",
       "      <td>2.5</td>\n",
       "      <td>0.00</td>\n",
       "    </tr>\n",
       "    <tr>\n",
       "      <th>3</th>\n",
       "      <td>2</td>\n",
       "      <td>2022-02-14 07:57:00</td>\n",
       "      <td>2022-02-14 07:58:00</td>\n",
       "      <td>NaN</td>\n",
       "      <td>0.05</td>\n",
       "      <td>NaN</td>\n",
       "      <td>NaN</td>\n",
       "      <td>158</td>\n",
       "      <td>158</td>\n",
       "      <td>0</td>\n",
       "      <td>-30.78</td>\n",
       "      <td>0.0</td>\n",
       "      <td>0.5</td>\n",
       "      <td>4.33</td>\n",
       "      <td>0.00</td>\n",
       "      <td>0.3</td>\n",
       "      <td>-23.15</td>\n",
       "      <td>NaN</td>\n",
       "      <td>NaN</td>\n",
       "    </tr>\n",
       "    <tr>\n",
       "      <th>4</th>\n",
       "      <td>2</td>\n",
       "      <td>2022-07-26 00:01:06</td>\n",
       "      <td>2022-07-26 00:30:05</td>\n",
       "      <td>1.0</td>\n",
       "      <td>18.24</td>\n",
       "      <td>2.0</td>\n",
       "      <td>N</td>\n",
       "      <td>132</td>\n",
       "      <td>42</td>\n",
       "      <td>1</td>\n",
       "      <td>52.00</td>\n",
       "      <td>0.0</td>\n",
       "      <td>0.5</td>\n",
       "      <td>0.00</td>\n",
       "      <td>6.55</td>\n",
       "      <td>0.3</td>\n",
       "      <td>60.60</td>\n",
       "      <td>0.0</td>\n",
       "      <td>1.25</td>\n",
       "    </tr>\n",
       "  </tbody>\n",
       "</table>\n",
       "</div>"
      ],
      "text/plain": [
       "   VendorID tpep_pickup_datetime tpep_dropoff_datetime  passenger_count  \\\n",
       "0         2  2022-12-14 08:57:09   2022-12-14 09:17:38              1.0   \n",
       "1         2  2022-08-28 13:22:42   2022-08-28 13:33:31              1.0   \n",
       "2         2  2022-07-29 18:28:00   2022-07-29 18:45:10              3.0   \n",
       "3         2  2022-02-14 07:57:00   2022-02-14 07:58:00              NaN   \n",
       "4         2  2022-07-26 00:01:06   2022-07-26 00:30:05              1.0   \n",
       "\n",
       "   trip_distance  RatecodeID store_and_fwd_flag  PULocationID  DOLocationID  \\\n",
       "0           3.79         1.0                  N            13            68   \n",
       "1           2.08         1.0                  N            48            68   \n",
       "2           2.08         1.0                  N           233            50   \n",
       "3           0.05         NaN                NaN           158           158   \n",
       "4          18.24         2.0                  N           132            42   \n",
       "\n",
       "   payment_type  fare_amount  extra  mta_tax  tip_amount  tolls_amount  \\\n",
       "0             1        17.00    0.0      0.5        4.06          0.00   \n",
       "1             1         9.50    0.0      0.5        2.56          0.00   \n",
       "2             1        12.00    1.0      0.5        2.00          0.00   \n",
       "3             0       -30.78    0.0      0.5        4.33          0.00   \n",
       "4             1        52.00    0.0      0.5        0.00          6.55   \n",
       "\n",
       "   improvement_surcharge  total_amount  congestion_surcharge  airport_fee  \n",
       "0                    0.3         24.36                   2.5         0.00  \n",
       "1                    0.3         15.36                   2.5         0.00  \n",
       "2                    0.3         18.30                   2.5         0.00  \n",
       "3                    0.3        -23.15                   NaN          NaN  \n",
       "4                    0.3         60.60                   0.0         1.25  "
      ]
     },
     "execution_count": 54,
     "metadata": {},
     "output_type": "execute_result"
    }
   ],
   "source": [
    "all_trips.head()"
   ]
  },
  {
   "cell_type": "code",
   "execution_count": 56,
   "metadata": {},
   "outputs": [
    {
     "data": {
      "text/plain": [
       "VendorID                   int64\n",
       "tpep_pickup_datetime      object\n",
       "tpep_dropoff_datetime     object\n",
       "passenger_count          float64\n",
       "trip_distance            float64\n",
       "RatecodeID               float64\n",
       "store_and_fwd_flag        object\n",
       "PULocationID               int64\n",
       "DOLocationID               int64\n",
       "payment_type               int64\n",
       "fare_amount              float64\n",
       "extra                    float64\n",
       "mta_tax                  float64\n",
       "tip_amount               float64\n",
       "tolls_amount             float64\n",
       "improvement_surcharge    float64\n",
       "total_amount             float64\n",
       "congestion_surcharge     float64\n",
       "airport_fee              float64\n",
       "dtype: object"
      ]
     },
     "execution_count": 56,
     "metadata": {},
     "output_type": "execute_result"
    }
   ],
   "source": [
    "all_trips.dtypes"
   ]
  },
  {
   "cell_type": "code",
   "execution_count": 57,
   "metadata": {},
   "outputs": [],
   "source": [
    "all_trips.drop(['congestion_surcharge', 'airport_fee', 'store_and_fwd_flag','VendorID', 'fare_amount','extra','mta_tax', 'tip_amount', 'tolls_amount' ,'improvement_surcharge' ], axis=1, inplace=True)"
   ]
  },
  {
   "cell_type": "code",
   "execution_count": 58,
   "metadata": {},
   "outputs": [],
   "source": [
    "# Convert datetime columns\n",
    "all_trips['tpep_pickup_datetime'] = pd.to_datetime(all_trips['tpep_pickup_datetime'])\n",
    "all_trips['tpep_dropoff_datetime'] = pd.to_datetime(all_trips['tpep_dropoff_datetime'])"
   ]
  },
  {
   "cell_type": "code",
   "execution_count": 59,
   "metadata": {},
   "outputs": [],
   "source": [
    "# Feature engineering\n",
    "all_trips['trip_duration'] = (all_trips['tpep_dropoff_datetime'] - all_trips['tpep_pickup_datetime']).dt.total_seconds() / 60  # in minutes\n"
   ]
  },
  {
   "cell_type": "code",
   "execution_count": 60,
   "metadata": {},
   "outputs": [
    {
     "name": "stdout",
     "output_type": "stream",
     "text": [
      "tpep_pickup_datetime       0\n",
      "tpep_dropoff_datetime      0\n",
      "passenger_count          353\n",
      "trip_distance              0\n",
      "RatecodeID               353\n",
      "PULocationID               0\n",
      "DOLocationID               0\n",
      "payment_type               0\n",
      "total_amount               0\n",
      "trip_duration              0\n",
      "dtype: int64\n"
     ]
    }
   ],
   "source": [
    "print(all_trips.isnull().sum())"
   ]
  },
  {
   "cell_type": "code",
   "execution_count": 61,
   "metadata": {},
   "outputs": [
    {
     "name": "stderr",
     "output_type": "stream",
     "text": [
      "c:\\Users\\varun\\anaconda3\\Lib\\site-packages\\seaborn\\_oldcore.py:1119: FutureWarning: use_inf_as_na option is deprecated and will be removed in a future version. Convert inf values to NaN before operating instead.\n",
      "  with pd.option_context('mode.use_inf_as_na', True):\n"
     ]
    },
    {
     "data": {
      "image/png": "[encoded data removed]",
      "text/plain": [
       "<Figure size 1000x600 with 1 Axes>"
      ]
     },
     "metadata": {},
     "output_type": "display_data"
    }
   ],
   "source": [
    "import seaborn as sns\n",
    "import matplotlib.pyplot as plt\n",
    "\n",
    "# Histogram for passenger_count\n",
    "plt.figure(figsize=(10, 6))\n",
    "sns.histplot(all_trips['passenger_count'].dropna(), kde=False, bins=range(int(all_trips['passenger_count'].max()) + 1))\n",
    "plt.title('Distribution of Passenger Count')\n",
    "plt.xlabel('Passenger Count')\n",
    "plt.ylabel('Frequency')\n",
    "plt.xticks(range(int(all_trips['passenger_count'].max()) + 1))  # Ensure integer ticks\n",
    "plt.grid(axis='y')\n",
    "plt.show()\n"
   ]
  },
  {
   "cell_type": "code",
   "execution_count": 62,
   "metadata": {},
   "outputs": [
    {
     "data": {
      "image/png": "[encoded data removed]",
      "text/plain": [
       "<Figure size 1000x600 with 1 Axes>"
      ]
     },
     "metadata": {},
     "output_type": "display_data"
    }
   ],
   "source": [
    "import matplotlib.pyplot as plt\n",
    "import seaborn as sns\n",
    "# Bar plot for RatecodeID\n",
    "plt.figure(figsize=(10, 6))\n",
    "ratecode_counts = all_trips['RatecodeID'].dropna().value_counts().sort_index()\n",
    "sns.barplot(x=ratecode_counts.index, y=ratecode_counts.values)\n",
    "plt.title('Frequency of Each RatecodeID')\n",
    "plt.xlabel('RatecodeID')\n",
    "plt.ylabel('Frequency')\n",
    "plt.xticks(rotation=45)  # Rotate labels if necessary\n",
    "plt.grid(axis='y')\n",
    "plt.show()\n"
   ]
  },
  {
   "cell_type": "code",
   "execution_count": 63,
   "metadata": {},
   "outputs": [],
   "source": [
    "# Handle missing values for 'passenger_count' and 'RatecodeID'\n",
    "all_trips['passenger_count'].fillna(all_trips['passenger_count'].median(), inplace=True)\n",
    "all_trips['RatecodeID'].fillna(all_trips['RatecodeID'].mode()[0], inplace=True)"
   ]
  },
  {
   "cell_type": "code",
   "execution_count": 64,
   "metadata": {},
   "outputs": [
    {
     "data": {
      "image/png": "[encoded data removed]",
      "text/plain": [
       "<Figure size 640x480 with 1 Axes>"
      ]
     },
     "metadata": {},
     "output_type": "display_data"
    }
   ],
   "source": [
    "import numpy as np\n",
    "sns.barplot(x='RatecodeID', y='total_amount', data=all_trips, estimator=np.mean)\n",
    "plt.title('Average Total Amount by RatecodeID')\n",
    "plt.xlabel('RatecodeID')\n",
    "plt.ylabel('Average Total Amount ($)')\n",
    "plt.show()"
   ]
  },
  {
   "cell_type": "code",
   "execution_count": 65,
   "metadata": {},
   "outputs": [],
   "source": [
    "all_trips = all_trips[all_trips['RatecodeID'] <= 6]"
   ]
  },
  {
   "cell_type": "code",
   "execution_count": 66,
   "metadata": {},
   "outputs": [
    {
     "data": {
      "image/png": "[encoded data removed]",
      "text/plain": [
       "<Figure size 640x480 with 1 Axes>"
      ]
     },
     "metadata": {},
     "output_type": "display_data"
    }
   ],
   "source": [
    "sns.countplot(x='payment_type', data=all_trips)\n",
    "plt.title('Frequency of Payment Types')\n",
    "plt.xlabel('Payment Type')\n",
    "plt.ylabel('Count')\n",
    "plt.show()"
   ]
  },
  {
   "cell_type": "code",
   "execution_count": 67,
   "metadata": {},
   "outputs": [],
   "source": [
    "all_trips = all_trips[all_trips['payment_type'] >= 0]"
   ]
  },
  {
   "cell_type": "code",
   "execution_count": 68,
   "metadata": {},
   "outputs": [],
   "source": [
    "# Convert to categorical data types\n",
    "categorical_columns = ['RatecodeID', 'payment_type']\n",
    "\n",
    "for column in categorical_columns:\n",
    "    all_trips[column] = all_trips[column].astype('category')\n"
   ]
  },
  {
   "cell_type": "code",
   "execution_count": 69,
   "metadata": {},
   "outputs": [
    {
     "data": {
      "image/png": "[encoded data removed]",
      "text/plain": [
       "<Figure size 800x400 with 1 Axes>"
      ]
     },
     "metadata": {},
     "output_type": "display_data"
    }
   ],
   "source": [
    "import seaborn as sns\n",
    "import matplotlib.pyplot as plt\n",
    "plt.figure(figsize=(8, 4))\n",
    "sns.boxplot(x=all_trips['trip_distance'])\n",
    "plt.title('Box Plot of Trip Distances')\n",
    "plt.xlabel('Trip Distance (miles)')\n",
    "plt.show()"
   ]
  },
  {
   "cell_type": "code",
   "execution_count": 70,
   "metadata": {},
   "outputs": [
    {
     "data": {
      "image/png": "[encoded data removed]",
      "text/plain": [
       "<Figure size 800x400 with 1 Axes>"
      ]
     },
     "metadata": {},
     "output_type": "display_data"
    }
   ],
   "source": [
    "import seaborn as sns\n",
    "import matplotlib.pyplot as plt\n",
    "plt.figure(figsize=(8, 4))\n",
    "sns.boxplot(x=all_trips['total_amount'])\n",
    "plt.title('Box Plot of total_amount')\n",
    "plt.xlabel('Total Fare Amount ($)')\n",
    "plt.show()"
   ]
  },
  {
   "cell_type": "code",
   "execution_count": 71,
   "metadata": {},
   "outputs": [
    {
     "data": {
      "text/plain": [
       "{'total_amount': 59}"
      ]
     },
     "execution_count": 71,
     "metadata": {},
     "output_type": "execute_result"
    }
   ],
   "source": [
    "columns_to_check = ['total_amount']\n",
    "\n",
    "# Count negative values for each column\n",
    "negative_counts = {column: (all_trips[column] < 0).sum() for column in columns_to_check}\n",
    "\n",
    "negative_counts\n"
   ]
  },
  {
   "cell_type": "code",
   "execution_count": 72,
   "metadata": {},
   "outputs": [],
   "source": [
    "all_trips = all_trips[~(all_trips[columns_to_check] < 0).any(axis=1)]\n",
    "all_trips = all_trips[all_trips['total_amount'] <= 250]"
   ]
  },
  {
   "cell_type": "code",
   "execution_count": 73,
   "metadata": {},
   "outputs": [
    {
     "data": {
      "image/png": "[encoded data removed]",
      "text/plain": [
       "<Figure size 1000x600 with 1 Axes>"
      ]
     },
     "metadata": {},
     "output_type": "display_data"
    }
   ],
   "source": [
    "plt.figure(figsize=(10, 6))\n",
    "sns.boxplot(x=all_trips['trip_duration'])\n",
    "plt.title('Box Plot of Trip Duration')\n",
    "plt.xlabel('Trip Duration (minutes)')\n",
    "plt.show()"
   ]
  },
  {
   "cell_type": "code",
   "execution_count": 74,
   "metadata": {},
   "outputs": [],
   "source": [
    "all_trips = all_trips[all_trips['trip_duration'] <= 100]\n",
    "\n",
    "all_trips = all_trips[all_trips['trip_duration'] >= 0]\n",
    "\n"
   ]
  },
  {
   "cell_type": "code",
   "execution_count": 75,
   "metadata": {},
   "outputs": [
    {
     "data": {
      "image/png": "[encoded data removed]",
      "text/plain": [
       "<Figure size 640x480 with 1 Axes>"
      ]
     },
     "metadata": {},
     "output_type": "display_data"
    }
   ],
   "source": [
    "sns.countplot(x='passenger_count', data=all_trips)\n",
    "plt.title('Count of Trips by Passenger Count')\n",
    "plt.xlabel('Passenger Count')\n",
    "plt.ylabel('Number of Trips')\n",
    "plt.show()\n"
   ]
  },
  {
   "cell_type": "code",
   "execution_count": 76,
   "metadata": {},
   "outputs": [],
   "source": [
    "all_trips = all_trips[all_trips['passenger_count'] >= 0]\n",
    "all_trips = all_trips[all_trips['passenger_count'] <= 6]\n"
   ]
  },
  {
   "cell_type": "code",
   "execution_count": 77,
   "metadata": {},
   "outputs": [
    {
     "data": {
      "image/png": "[encoded data removed]",
      "text/plain": [
       "<Figure size 1000x600 with 1 Axes>"
      ]
     },
     "metadata": {},
     "output_type": "display_data"
    }
   ],
   "source": [
    "plt.figure(figsize=(10, 6))\n",
    "sns.boxplot(x=all_trips['trip_duration'])\n",
    "plt.title('Box Plot of Trip Duration')\n",
    "plt.xlabel('Trip Duration (minutes)')\n",
    "plt.show()"
   ]
  },
  {
   "cell_type": "code",
   "execution_count": 78,
   "metadata": {},
   "outputs": [],
   "source": [
    "all_trips = all_trips[all_trips['trip_duration'] <= 100]\n",
    "\n",
    "# This line will keep only the rows where trip_duration is 200 minutes or less\n",
    "\n",
    "all_trips = all_trips[all_trips['trip_duration'] >= 0]"
   ]
  },
  {
   "cell_type": "code",
   "execution_count": 79,
   "metadata": {},
   "outputs": [
    {
     "data": {
      "text/html": [
       "<div>\n",
       "<style scoped>\n",
       "    .dataframe tbody tr th:only-of-type {\n",
       "        vertical-align: middle;\n",
       "    }\n",
       "\n",
       "    .dataframe tbody tr th {\n",
       "        vertical-align: top;\n",
       "    }\n",
       "\n",
       "    .dataframe thead th {\n",
       "        text-align: right;\n",
       "    }\n",
       "</style>\n",
       "<table border=\"1\" class=\"dataframe\">\n",
       "  <thead>\n",
       "    <tr style=\"text-align: right;\">\n",
       "      <th></th>\n",
       "      <th>tpep_pickup_datetime</th>\n",
       "      <th>tpep_dropoff_datetime</th>\n",
       "      <th>passenger_count</th>\n",
       "      <th>trip_distance</th>\n",
       "      <th>RatecodeID</th>\n",
       "      <th>PULocationID</th>\n",
       "      <th>DOLocationID</th>\n",
       "      <th>payment_type</th>\n",
       "      <th>total_amount</th>\n",
       "      <th>trip_duration</th>\n",
       "    </tr>\n",
       "  </thead>\n",
       "  <tbody>\n",
       "    <tr>\n",
       "      <th>0</th>\n",
       "      <td>2022-12-14 08:57:09</td>\n",
       "      <td>2022-12-14 09:17:38</td>\n",
       "      <td>1.0</td>\n",
       "      <td>3.79</td>\n",
       "      <td>1.0</td>\n",
       "      <td>13</td>\n",
       "      <td>68</td>\n",
       "      <td>1</td>\n",
       "      <td>24.36</td>\n",
       "      <td>20.483333</td>\n",
       "    </tr>\n",
       "    <tr>\n",
       "      <th>1</th>\n",
       "      <td>2022-08-28 13:22:42</td>\n",
       "      <td>2022-08-28 13:33:31</td>\n",
       "      <td>1.0</td>\n",
       "      <td>2.08</td>\n",
       "      <td>1.0</td>\n",
       "      <td>48</td>\n",
       "      <td>68</td>\n",
       "      <td>1</td>\n",
       "      <td>15.36</td>\n",
       "      <td>10.816667</td>\n",
       "    </tr>\n",
       "    <tr>\n",
       "      <th>2</th>\n",
       "      <td>2022-07-29 18:28:00</td>\n",
       "      <td>2022-07-29 18:45:10</td>\n",
       "      <td>3.0</td>\n",
       "      <td>2.08</td>\n",
       "      <td>1.0</td>\n",
       "      <td>233</td>\n",
       "      <td>50</td>\n",
       "      <td>1</td>\n",
       "      <td>18.30</td>\n",
       "      <td>17.166667</td>\n",
       "    </tr>\n",
       "    <tr>\n",
       "      <th>4</th>\n",
       "      <td>2022-07-26 00:01:06</td>\n",
       "      <td>2022-07-26 00:30:05</td>\n",
       "      <td>1.0</td>\n",
       "      <td>18.24</td>\n",
       "      <td>2.0</td>\n",
       "      <td>132</td>\n",
       "      <td>42</td>\n",
       "      <td>1</td>\n",
       "      <td>60.60</td>\n",
       "      <td>28.983333</td>\n",
       "    </tr>\n",
       "    <tr>\n",
       "      <th>5</th>\n",
       "      <td>2022-04-08 12:38:17</td>\n",
       "      <td>2022-04-08 13:11:12</td>\n",
       "      <td>2.0</td>\n",
       "      <td>9.12</td>\n",
       "      <td>1.0</td>\n",
       "      <td>70</td>\n",
       "      <td>238</td>\n",
       "      <td>1</td>\n",
       "      <td>41.60</td>\n",
       "      <td>32.916667</td>\n",
       "    </tr>\n",
       "  </tbody>\n",
       "</table>\n",
       "</div>"
      ],
      "text/plain": [
       "  tpep_pickup_datetime tpep_dropoff_datetime  passenger_count  trip_distance  \\\n",
       "0  2022-12-14 08:57:09   2022-12-14 09:17:38              1.0           3.79   \n",
       "1  2022-08-28 13:22:42   2022-08-28 13:33:31              1.0           2.08   \n",
       "2  2022-07-29 18:28:00   2022-07-29 18:45:10              3.0           2.08   \n",
       "4  2022-07-26 00:01:06   2022-07-26 00:30:05              1.0          18.24   \n",
       "5  2022-04-08 12:38:17   2022-04-08 13:11:12              2.0           9.12   \n",
       "\n",
       "  RatecodeID  PULocationID  DOLocationID payment_type  total_amount  \\\n",
       "0        1.0            13            68            1         24.36   \n",
       "1        1.0            48            68            1         15.36   \n",
       "2        1.0           233            50            1         18.30   \n",
       "4        2.0           132            42            1         60.60   \n",
       "5        1.0            70           238            1         41.60   \n",
       "\n",
       "   trip_duration  \n",
       "0      20.483333  \n",
       "1      10.816667  \n",
       "2      17.166667  \n",
       "4      28.983333  \n",
       "5      32.916667  "
      ]
     },
     "execution_count": 79,
     "metadata": {},
     "output_type": "execute_result"
    }
   ],
   "source": [
    "all_trips.head()"
   ]
  },
  {
   "cell_type": "code",
   "execution_count": 80,
   "metadata": {},
   "outputs": [],
   "source": [
    "weather_data = pd.read_csv('weather_data.csv')\n",
    "\n",
    "weather_data['date'] = pd.to_datetime(weather_data['date']).dt.date\n",
    "\n",
    "# Step 2: Extract date from tpep_pickup_datetime for merging\n",
    "all_trips['pickup_date'] = all_trips['tpep_pickup_datetime'].dt.date\n",
    "\n",
    "# Step 3: Merge the datasets\n",
    "merged_data = pd.merge(all_trips, weather_data, left_on='pickup_date', right_on='date', how='left')\n",
    "\n",
    "# Now, merged_data contains taxi trip data along with the weather conditions for the pickup day"
   ]
  },
  {
   "cell_type": "code",
   "execution_count": 81,
   "metadata": {},
   "outputs": [
    {
     "data": {
      "text/html": [
       "<div>\n",
       "<style scoped>\n",
       "    .dataframe tbody tr th:only-of-type {\n",
       "        vertical-align: middle;\n",
       "    }\n",
       "\n",
       "    .dataframe tbody tr th {\n",
       "        vertical-align: top;\n",
       "    }\n",
       "\n",
       "    .dataframe thead th {\n",
       "        text-align: right;\n",
       "    }\n",
       "</style>\n",
       "<table border=\"1\" class=\"dataframe\">\n",
       "  <thead>\n",
       "    <tr style=\"text-align: right;\">\n",
       "      <th></th>\n",
       "      <th>tpep_pickup_datetime</th>\n",
       "      <th>tpep_dropoff_datetime</th>\n",
       "      <th>passenger_count</th>\n",
       "      <th>trip_distance</th>\n",
       "      <th>RatecodeID</th>\n",
       "      <th>PULocationID</th>\n",
       "      <th>DOLocationID</th>\n",
       "      <th>payment_type</th>\n",
       "      <th>total_amount</th>\n",
       "      <th>trip_duration</th>\n",
       "      <th>pickup_date</th>\n",
       "      <th>date</th>\n",
       "      <th>PRCP</th>\n",
       "      <th>SNOW</th>\n",
       "      <th>SNWD</th>\n",
       "      <th>TMAX</th>\n",
       "      <th>TMIN</th>\n",
       "    </tr>\n",
       "  </thead>\n",
       "  <tbody>\n",
       "    <tr>\n",
       "      <th>0</th>\n",
       "      <td>2022-12-14 08:57:09</td>\n",
       "      <td>2022-12-14 09:17:38</td>\n",
       "      <td>1.0</td>\n",
       "      <td>3.79</td>\n",
       "      <td>1.0</td>\n",
       "      <td>13</td>\n",
       "      <td>68</td>\n",
       "      <td>1</td>\n",
       "      <td>24.36</td>\n",
       "      <td>20.483333</td>\n",
       "      <td>2022-12-14</td>\n",
       "      <td>2022-12-14</td>\n",
       "      <td>0.00</td>\n",
       "      <td>0.0</td>\n",
       "      <td>0.0</td>\n",
       "      <td>39.0</td>\n",
       "      <td>31.0</td>\n",
       "    </tr>\n",
       "    <tr>\n",
       "      <th>1</th>\n",
       "      <td>2022-08-28 13:22:42</td>\n",
       "      <td>2022-08-28 13:33:31</td>\n",
       "      <td>1.0</td>\n",
       "      <td>2.08</td>\n",
       "      <td>1.0</td>\n",
       "      <td>48</td>\n",
       "      <td>68</td>\n",
       "      <td>1</td>\n",
       "      <td>15.36</td>\n",
       "      <td>10.816667</td>\n",
       "      <td>2022-08-28</td>\n",
       "      <td>2022-08-28</td>\n",
       "      <td>0.00</td>\n",
       "      <td>0.0</td>\n",
       "      <td>0.0</td>\n",
       "      <td>82.0</td>\n",
       "      <td>73.0</td>\n",
       "    </tr>\n",
       "    <tr>\n",
       "      <th>2</th>\n",
       "      <td>2022-07-29 18:28:00</td>\n",
       "      <td>2022-07-29 18:45:10</td>\n",
       "      <td>3.0</td>\n",
       "      <td>2.08</td>\n",
       "      <td>1.0</td>\n",
       "      <td>233</td>\n",
       "      <td>50</td>\n",
       "      <td>1</td>\n",
       "      <td>18.30</td>\n",
       "      <td>17.166667</td>\n",
       "      <td>2022-07-29</td>\n",
       "      <td>2022-07-29</td>\n",
       "      <td>0.10</td>\n",
       "      <td>0.0</td>\n",
       "      <td>0.0</td>\n",
       "      <td>85.0</td>\n",
       "      <td>72.0</td>\n",
       "    </tr>\n",
       "    <tr>\n",
       "      <th>3</th>\n",
       "      <td>2022-07-26 00:01:06</td>\n",
       "      <td>2022-07-26 00:30:05</td>\n",
       "      <td>1.0</td>\n",
       "      <td>18.24</td>\n",
       "      <td>2.0</td>\n",
       "      <td>132</td>\n",
       "      <td>42</td>\n",
       "      <td>1</td>\n",
       "      <td>60.60</td>\n",
       "      <td>28.983333</td>\n",
       "      <td>2022-07-26</td>\n",
       "      <td>2022-07-26</td>\n",
       "      <td>0.00</td>\n",
       "      <td>0.0</td>\n",
       "      <td>0.0</td>\n",
       "      <td>81.0</td>\n",
       "      <td>71.0</td>\n",
       "    </tr>\n",
       "    <tr>\n",
       "      <th>4</th>\n",
       "      <td>2022-04-08 12:38:17</td>\n",
       "      <td>2022-04-08 13:11:12</td>\n",
       "      <td>2.0</td>\n",
       "      <td>9.12</td>\n",
       "      <td>1.0</td>\n",
       "      <td>70</td>\n",
       "      <td>238</td>\n",
       "      <td>1</td>\n",
       "      <td>41.60</td>\n",
       "      <td>32.916667</td>\n",
       "      <td>2022-04-08</td>\n",
       "      <td>2022-04-08</td>\n",
       "      <td>0.03</td>\n",
       "      <td>0.0</td>\n",
       "      <td>0.0</td>\n",
       "      <td>65.0</td>\n",
       "      <td>49.0</td>\n",
       "    </tr>\n",
       "  </tbody>\n",
       "</table>\n",
       "</div>"
      ],
      "text/plain": [
       "  tpep_pickup_datetime tpep_dropoff_datetime  passenger_count  trip_distance  \\\n",
       "0  2022-12-14 08:57:09   2022-12-14 09:17:38              1.0           3.79   \n",
       "1  2022-08-28 13:22:42   2022-08-28 13:33:31              1.0           2.08   \n",
       "2  2022-07-29 18:28:00   2022-07-29 18:45:10              3.0           2.08   \n",
       "3  2022-07-26 00:01:06   2022-07-26 00:30:05              1.0          18.24   \n",
       "4  2022-04-08 12:38:17   2022-04-08 13:11:12              2.0           9.12   \n",
       "\n",
       "  RatecodeID  PULocationID  DOLocationID payment_type  total_amount  \\\n",
       "0        1.0            13            68            1         24.36   \n",
       "1        1.0            48            68            1         15.36   \n",
       "2        1.0           233            50            1         18.30   \n",
       "3        2.0           132            42            1         60.60   \n",
       "4        1.0            70           238            1         41.60   \n",
       "\n",
       "   trip_duration pickup_date        date  PRCP  SNOW  SNWD  TMAX  TMIN  \n",
       "0      20.483333  2022-12-14  2022-12-14  0.00   0.0   0.0  39.0  31.0  \n",
       "1      10.816667  2022-08-28  2022-08-28  0.00   0.0   0.0  82.0  73.0  \n",
       "2      17.166667  2022-07-29  2022-07-29  0.10   0.0   0.0  85.0  72.0  \n",
       "3      28.983333  2022-07-26  2022-07-26  0.00   0.0   0.0  81.0  71.0  \n",
       "4      32.916667  2022-04-08  2022-04-08  0.03   0.0   0.0  65.0  49.0  "
      ]
     },
     "execution_count": 81,
     "metadata": {},
     "output_type": "execute_result"
    }
   ],
   "source": [
    "merged_data.head()"
   ]
  },
  {
   "cell_type": "code",
   "execution_count": 82,
   "metadata": {},
   "outputs": [
    {
     "name": "stdout",
     "output_type": "stream",
     "text": [
      "<class 'pandas.core.frame.DataFrame'>\n",
      "RangeIndex: 265 entries, 0 to 264\n",
      "Data columns (total 4 columns):\n",
      " #   Column        Non-Null Count  Dtype \n",
      "---  ------        --------------  ----- \n",
      " 0   LocationID    265 non-null    int64 \n",
      " 1   Borough       265 non-null    object\n",
      " 2   Zone          264 non-null    object\n",
      " 3   service_zone  263 non-null    object\n",
      "dtypes: int64(1), object(3)\n",
      "memory usage: 8.4+ KB\n"
     ]
    },
    {
     "data": {
      "text/plain": [
       "(   LocationID        Borough                     Zone service_zone\n",
       " 0           1            EWR           Newark Airport          EWR\n",
       " 1           2         Queens              Jamaica Bay    Boro Zone\n",
       " 2           3          Bronx  Allerton/Pelham Gardens    Boro Zone\n",
       " 3           4      Manhattan            Alphabet City  Yellow Zone\n",
       " 4           5  Staten Island            Arden Heights    Boro Zone,\n",
       " None)"
      ]
     },
     "execution_count": 82,
     "metadata": {},
     "output_type": "execute_result"
    }
   ],
   "source": [
    "# Load the taxi zone lookup dataset to understand its structure\n",
    "taxi_zone_lookup_path = 'taxi+_zone_lookup.csv'\n",
    "taxi_zone_lookup = pd.read_csv(taxi_zone_lookup_path)\n",
    "\n",
    "# Display the first few rows of the dataset and summary information\n",
    "taxi_zone_lookup_head = taxi_zone_lookup.head()\n",
    "taxi_zone_lookup_info = taxi_zone_lookup.info()\n",
    "\n",
    "taxi_zone_lookup_head, taxi_zone_lookup_info"
   ]
  },
  {
   "cell_type": "code",
   "execution_count": 84,
   "metadata": {},
   "outputs": [],
   "source": [
    "# Merge for pickup location information\n",
    "merged_data = pd.merge(merged_data, taxi_zone_lookup, how='left', left_on='PULocationID', right_on='LocationID')\n",
    "merged_data.rename(columns={'Borough': 'pickup_borough', 'Zone': 'pickup_zone', 'service_zone': 'pickup_service_zone'}, inplace=True)\n",
    "\n",
    "# Drop the now redundant 'LocationID' column from the first merge\n",
    "merged_data.drop('LocationID', axis=1, inplace=True)\n",
    "\n",
    "# Merge for dropoff location information\n",
    "merged_data = pd.merge(merged_data, taxi_zone_lookup, how='left', left_on='DOLocationID', right_on='LocationID')\n",
    "merged_data.rename(columns={'Borough': 'dropoff_borough', 'Zone': 'dropoff_zone', 'service_zone': 'dropoff_service_zone'}, inplace=True)\n",
    "\n",
    "# Drop the now redundant 'LocationID' column from the second merge\n",
    "merged_data.drop('LocationID', axis=1, inplace=True)"
   ]
  },
  {
   "cell_type": "code",
   "execution_count": 85,
   "metadata": {},
   "outputs": [
    {
     "data": {
      "text/html": [
       "<div>\n",
       "<style scoped>\n",
       "    .dataframe tbody tr th:only-of-type {\n",
       "        vertical-align: middle;\n",
       "    }\n",
       "\n",
       "    .dataframe tbody tr th {\n",
       "        vertical-align: top;\n",
       "    }\n",
       "\n",
       "    .dataframe thead th {\n",
       "        text-align: right;\n",
       "    }\n",
       "</style>\n",
       "<table border=\"1\" class=\"dataframe\">\n",
       "  <thead>\n",
       "    <tr style=\"text-align: right;\">\n",
       "      <th></th>\n",
       "      <th>tpep_pickup_datetime</th>\n",
       "      <th>tpep_dropoff_datetime</th>\n",
       "      <th>passenger_count</th>\n",
       "      <th>trip_distance</th>\n",
       "      <th>RatecodeID</th>\n",
       "      <th>PULocationID</th>\n",
       "      <th>DOLocationID</th>\n",
       "      <th>payment_type</th>\n",
       "      <th>total_amount</th>\n",
       "      <th>trip_duration</th>\n",
       "      <th>...</th>\n",
       "      <th>pickup_service_zone</th>\n",
       "      <th>dropoff_borough</th>\n",
       "      <th>dropoff_zone</th>\n",
       "      <th>dropoff_service_zone</th>\n",
       "      <th>pickup_borough</th>\n",
       "      <th>pickup_zone</th>\n",
       "      <th>pickup_service_zone</th>\n",
       "      <th>dropoff_borough</th>\n",
       "      <th>dropoff_zone</th>\n",
       "      <th>dropoff_service_zone</th>\n",
       "    </tr>\n",
       "  </thead>\n",
       "  <tbody>\n",
       "    <tr>\n",
       "      <th>0</th>\n",
       "      <td>2022-12-14 08:57:09</td>\n",
       "      <td>2022-12-14 09:17:38</td>\n",
       "      <td>1.0</td>\n",
       "      <td>3.79</td>\n",
       "      <td>1.0</td>\n",
       "      <td>13</td>\n",
       "      <td>68</td>\n",
       "      <td>1</td>\n",
       "      <td>24.36</td>\n",
       "      <td>20.483333</td>\n",
       "      <td>...</td>\n",
       "      <td>Yellow Zone</td>\n",
       "      <td>Manhattan</td>\n",
       "      <td>East Chelsea</td>\n",
       "      <td>Yellow Zone</td>\n",
       "      <td>Manhattan</td>\n",
       "      <td>Battery Park City</td>\n",
       "      <td>Yellow Zone</td>\n",
       "      <td>Manhattan</td>\n",
       "      <td>East Chelsea</td>\n",
       "      <td>Yellow Zone</td>\n",
       "    </tr>\n",
       "    <tr>\n",
       "      <th>1</th>\n",
       "      <td>2022-08-28 13:22:42</td>\n",
       "      <td>2022-08-28 13:33:31</td>\n",
       "      <td>1.0</td>\n",
       "      <td>2.08</td>\n",
       "      <td>1.0</td>\n",
       "      <td>48</td>\n",
       "      <td>68</td>\n",
       "      <td>1</td>\n",
       "      <td>15.36</td>\n",
       "      <td>10.816667</td>\n",
       "      <td>...</td>\n",
       "      <td>Yellow Zone</td>\n",
       "      <td>Manhattan</td>\n",
       "      <td>East Chelsea</td>\n",
       "      <td>Yellow Zone</td>\n",
       "      <td>Manhattan</td>\n",
       "      <td>Clinton East</td>\n",
       "      <td>Yellow Zone</td>\n",
       "      <td>Manhattan</td>\n",
       "      <td>East Chelsea</td>\n",
       "      <td>Yellow Zone</td>\n",
       "    </tr>\n",
       "    <tr>\n",
       "      <th>2</th>\n",
       "      <td>2022-07-29 18:28:00</td>\n",
       "      <td>2022-07-29 18:45:10</td>\n",
       "      <td>3.0</td>\n",
       "      <td>2.08</td>\n",
       "      <td>1.0</td>\n",
       "      <td>233</td>\n",
       "      <td>50</td>\n",
       "      <td>1</td>\n",
       "      <td>18.30</td>\n",
       "      <td>17.166667</td>\n",
       "      <td>...</td>\n",
       "      <td>Yellow Zone</td>\n",
       "      <td>Manhattan</td>\n",
       "      <td>Clinton West</td>\n",
       "      <td>Yellow Zone</td>\n",
       "      <td>Manhattan</td>\n",
       "      <td>UN/Turtle Bay South</td>\n",
       "      <td>Yellow Zone</td>\n",
       "      <td>Manhattan</td>\n",
       "      <td>Clinton West</td>\n",
       "      <td>Yellow Zone</td>\n",
       "    </tr>\n",
       "    <tr>\n",
       "      <th>3</th>\n",
       "      <td>2022-07-26 00:01:06</td>\n",
       "      <td>2022-07-26 00:30:05</td>\n",
       "      <td>1.0</td>\n",
       "      <td>18.24</td>\n",
       "      <td>2.0</td>\n",
       "      <td>132</td>\n",
       "      <td>42</td>\n",
       "      <td>1</td>\n",
       "      <td>60.60</td>\n",
       "      <td>28.983333</td>\n",
       "      <td>...</td>\n",
       "      <td>Airports</td>\n",
       "      <td>Manhattan</td>\n",
       "      <td>Central Harlem North</td>\n",
       "      <td>Boro Zone</td>\n",
       "      <td>Queens</td>\n",
       "      <td>JFK Airport</td>\n",
       "      <td>Airports</td>\n",
       "      <td>Manhattan</td>\n",
       "      <td>Central Harlem North</td>\n",
       "      <td>Boro Zone</td>\n",
       "    </tr>\n",
       "    <tr>\n",
       "      <th>4</th>\n",
       "      <td>2022-04-08 12:38:17</td>\n",
       "      <td>2022-04-08 13:11:12</td>\n",
       "      <td>2.0</td>\n",
       "      <td>9.12</td>\n",
       "      <td>1.0</td>\n",
       "      <td>70</td>\n",
       "      <td>238</td>\n",
       "      <td>1</td>\n",
       "      <td>41.60</td>\n",
       "      <td>32.916667</td>\n",
       "      <td>...</td>\n",
       "      <td>Boro Zone</td>\n",
       "      <td>Manhattan</td>\n",
       "      <td>Upper West Side North</td>\n",
       "      <td>Yellow Zone</td>\n",
       "      <td>Queens</td>\n",
       "      <td>East Elmhurst</td>\n",
       "      <td>Boro Zone</td>\n",
       "      <td>Manhattan</td>\n",
       "      <td>Upper West Side North</td>\n",
       "      <td>Yellow Zone</td>\n",
       "    </tr>\n",
       "  </tbody>\n",
       "</table>\n",
       "<p>5 rows × 29 columns</p>\n",
       "</div>"
      ],
      "text/plain": [
       "  tpep_pickup_datetime tpep_dropoff_datetime  passenger_count  trip_distance  \\\n",
       "0  2022-12-14 08:57:09   2022-12-14 09:17:38              1.0           3.79   \n",
       "1  2022-08-28 13:22:42   2022-08-28 13:33:31              1.0           2.08   \n",
       "2  2022-07-29 18:28:00   2022-07-29 18:45:10              3.0           2.08   \n",
       "3  2022-07-26 00:01:06   2022-07-26 00:30:05              1.0          18.24   \n",
       "4  2022-04-08 12:38:17   2022-04-08 13:11:12              2.0           9.12   \n",
       "\n",
       "  RatecodeID  PULocationID  DOLocationID payment_type  total_amount  \\\n",
       "0        1.0            13            68            1         24.36   \n",
       "1        1.0            48            68            1         15.36   \n",
       "2        1.0           233            50            1         18.30   \n",
       "3        2.0           132            42            1         60.60   \n",
       "4        1.0            70           238            1         41.60   \n",
       "\n",
       "   trip_duration  ...  pickup_service_zone dropoff_borough  \\\n",
       "0      20.483333  ...          Yellow Zone       Manhattan   \n",
       "1      10.816667  ...          Yellow Zone       Manhattan   \n",
       "2      17.166667  ...          Yellow Zone       Manhattan   \n",
       "3      28.983333  ...             Airports       Manhattan   \n",
       "4      32.916667  ...            Boro Zone       Manhattan   \n",
       "\n",
       "            dropoff_zone dropoff_service_zone  pickup_borough  \\\n",
       "0           East Chelsea          Yellow Zone       Manhattan   \n",
       "1           East Chelsea          Yellow Zone       Manhattan   \n",
       "2           Clinton West          Yellow Zone       Manhattan   \n",
       "3   Central Harlem North            Boro Zone          Queens   \n",
       "4  Upper West Side North          Yellow Zone          Queens   \n",
       "\n",
       "           pickup_zone  pickup_service_zone dropoff_borough  \\\n",
       "0    Battery Park City          Yellow Zone       Manhattan   \n",
       "1         Clinton East          Yellow Zone       Manhattan   \n",
       "2  UN/Turtle Bay South          Yellow Zone       Manhattan   \n",
       "3          JFK Airport             Airports       Manhattan   \n",
       "4        East Elmhurst            Boro Zone       Manhattan   \n",
       "\n",
       "            dropoff_zone dropoff_service_zone  \n",
       "0           East Chelsea          Yellow Zone  \n",
       "1           East Chelsea          Yellow Zone  \n",
       "2           Clinton West          Yellow Zone  \n",
       "3   Central Harlem North            Boro Zone  \n",
       "4  Upper West Side North          Yellow Zone  \n",
       "\n",
       "[5 rows x 29 columns]"
      ]
     },
     "execution_count": 85,
     "metadata": {},
     "output_type": "execute_result"
    }
   ],
   "source": [
    "merged_data.head()"
   ]
  },
  {
   "cell_type": "code",
   "execution_count": 86,
   "metadata": {},
   "outputs": [
    {
     "name": "stdout",
     "output_type": "stream",
     "text": [
      "Index(['tpep_pickup_datetime', 'tpep_dropoff_datetime', 'passenger_count',\n",
      "       'trip_distance', 'RatecodeID', 'PULocationID', 'DOLocationID',\n",
      "       'payment_type', 'total_amount', 'trip_duration', 'date', 'PRCP', 'SNOW',\n",
      "       'TMAX', 'TMIN', 'pickup_borough', 'dropoff_borough', 'pickup_borough',\n",
      "       'dropoff_borough'],\n",
      "      dtype='object')\n"
     ]
    }
   ],
   "source": [
    "columns_to_drop = ['pickup_zone', 'pickup_service_zone', 'dropoff_zone', 'dropoff_service_zone', 'pickup_date', 'SNWD']\n",
    "\n",
    "# Drop the specified columns\n",
    "merged_data.drop(columns=columns_to_drop, axis=1, inplace=True)\n",
    "\n",
    "# Verify the columns have been dropped\n",
    "print(merged_data.columns)"
   ]
  },
  {
   "cell_type": "code",
   "execution_count": null,
   "metadata": {},
   "outputs": [
    {
     "data": {
      "text/html": [
       "<div>\n",
       "<style scoped>\n",
       "    .dataframe tbody tr th:only-of-type {\n",
       "        vertical-align: middle;\n",
       "    }\n",
       "\n",
       "    .dataframe tbody tr th {\n",
       "        vertical-align: top;\n",
       "    }\n",
       "\n",
       "    .dataframe thead th {\n",
       "        text-align: right;\n",
       "    }\n",
       "</style>\n",
       "<table border=\"1\" class=\"dataframe\">\n",
       "  <thead>\n",
       "    <tr style=\"text-align: right;\">\n",
       "      <th></th>\n",
       "      <th>tpep_pickup_datetime</th>\n",
       "      <th>tpep_dropoff_datetime</th>\n",
       "      <th>passenger_count</th>\n",
       "      <th>trip_distance</th>\n",
       "      <th>RatecodeID</th>\n",
       "      <th>PULocationID</th>\n",
       "      <th>DOLocationID</th>\n",
       "      <th>payment_type</th>\n",
       "      <th>total_amount</th>\n",
       "      <th>trip_duration</th>\n",
       "      <th>date</th>\n",
       "      <th>PRCP</th>\n",
       "      <th>SNOW</th>\n",
       "      <th>TMAX</th>\n",
       "      <th>TMIN</th>\n",
       "      <th>pickup_borough</th>\n",
       "      <th>dropoff_borough</th>\n",
       "    </tr>\n",
       "  </thead>\n",
       "  <tbody>\n",
       "    <tr>\n",
       "      <th>0</th>\n",
       "      <td>2022-12-14 08:57:09</td>\n",
       "      <td>2022-12-14 09:17:38</td>\n",
       "      <td>1.0</td>\n",
       "      <td>3.79</td>\n",
       "      <td>1.0</td>\n",
       "      <td>13</td>\n",
       "      <td>68</td>\n",
       "      <td>1</td>\n",
       "      <td>24.36</td>\n",
       "      <td>20.483333</td>\n",
       "      <td>2022-12-14</td>\n",
       "      <td>0.00</td>\n",
       "      <td>0.0</td>\n",
       "      <td>39.0</td>\n",
       "      <td>31.0</td>\n",
       "      <td>Manhattan</td>\n",
       "      <td>Manhattan</td>\n",
       "    </tr>\n",
       "    <tr>\n",
       "      <th>1</th>\n",
       "      <td>2022-08-28 13:22:42</td>\n",
       "      <td>2022-08-28 13:33:31</td>\n",
       "      <td>1.0</td>\n",
       "      <td>2.08</td>\n",
       "      <td>1.0</td>\n",
       "      <td>48</td>\n",
       "      <td>68</td>\n",
       "      <td>1</td>\n",
       "      <td>15.36</td>\n",
       "      <td>10.816667</td>\n",
       "      <td>2022-08-28</td>\n",
       "      <td>0.00</td>\n",
       "      <td>0.0</td>\n",
       "      <td>82.0</td>\n",
       "      <td>73.0</td>\n",
       "      <td>Manhattan</td>\n",
       "      <td>Manhattan</td>\n",
       "    </tr>\n",
       "    <tr>\n",
       "      <th>2</th>\n",
       "      <td>2022-07-29 18:28:00</td>\n",
       "      <td>2022-07-29 18:45:10</td>\n",
       "      <td>3.0</td>\n",
       "      <td>2.08</td>\n",
       "      <td>1.0</td>\n",
       "      <td>233</td>\n",
       "      <td>50</td>\n",
       "      <td>1</td>\n",
       "      <td>18.30</td>\n",
       "      <td>17.166667</td>\n",
       "      <td>2022-07-29</td>\n",
       "      <td>0.10</td>\n",
       "      <td>0.0</td>\n",
       "      <td>85.0</td>\n",
       "      <td>72.0</td>\n",
       "      <td>Manhattan</td>\n",
       "      <td>Manhattan</td>\n",
       "    </tr>\n",
       "    <tr>\n",
       "      <th>3</th>\n",
       "      <td>2022-07-26 00:01:06</td>\n",
       "      <td>2022-07-26 00:30:05</td>\n",
       "      <td>1.0</td>\n",
       "      <td>18.24</td>\n",
       "      <td>2.0</td>\n",
       "      <td>132</td>\n",
       "      <td>42</td>\n",
       "      <td>1</td>\n",
       "      <td>60.60</td>\n",
       "      <td>28.983333</td>\n",
       "      <td>2022-07-26</td>\n",
       "      <td>0.00</td>\n",
       "      <td>0.0</td>\n",
       "      <td>81.0</td>\n",
       "      <td>71.0</td>\n",
       "      <td>Queens</td>\n",
       "      <td>Manhattan</td>\n",
       "    </tr>\n",
       "    <tr>\n",
       "      <th>4</th>\n",
       "      <td>2022-04-08 12:38:17</td>\n",
       "      <td>2022-04-08 13:11:12</td>\n",
       "      <td>2.0</td>\n",
       "      <td>9.12</td>\n",
       "      <td>1.0</td>\n",
       "      <td>70</td>\n",
       "      <td>238</td>\n",
       "      <td>1</td>\n",
       "      <td>41.60</td>\n",
       "      <td>32.916667</td>\n",
       "      <td>2022-04-08</td>\n",
       "      <td>0.03</td>\n",
       "      <td>0.0</td>\n",
       "      <td>65.0</td>\n",
       "      <td>49.0</td>\n",
       "      <td>Queens</td>\n",
       "      <td>Manhattan</td>\n",
       "    </tr>\n",
       "  </tbody>\n",
       "</table>\n",
       "</div>"
      ],
      "text/plain": [
       "  tpep_pickup_datetime tpep_dropoff_datetime  passenger_count  trip_distance  \\\n",
       "0  2022-12-14 08:57:09   2022-12-14 09:17:38              1.0           3.79   \n",
       "1  2022-08-28 13:22:42   2022-08-28 13:33:31              1.0           2.08   \n",
       "2  2022-07-29 18:28:00   2022-07-29 18:45:10              3.0           2.08   \n",
       "3  2022-07-26 00:01:06   2022-07-26 00:30:05              1.0          18.24   \n",
       "4  2022-04-08 12:38:17   2022-04-08 13:11:12              2.0           9.12   \n",
       "\n",
       "  RatecodeID  PULocationID  DOLocationID payment_type  total_amount  \\\n",
       "0        1.0            13            68            1         24.36   \n",
       "1        1.0            48            68            1         15.36   \n",
       "2        1.0           233            50            1         18.30   \n",
       "3        2.0           132            42            1         60.60   \n",
       "4        1.0            70           238            1         41.60   \n",
       "\n",
       "   trip_duration        date  PRCP  SNOW  TMAX  TMIN pickup_borough  \\\n",
       "0      20.483333  2022-12-14  0.00   0.0  39.0  31.0      Manhattan   \n",
       "1      10.816667  2022-08-28  0.00   0.0  82.0  73.0      Manhattan   \n",
       "2      17.166667  2022-07-29  0.10   0.0  85.0  72.0      Manhattan   \n",
       "3      28.983333  2022-07-26  0.00   0.0  81.0  71.0         Queens   \n",
       "4      32.916667  2022-04-08  0.03   0.0  65.0  49.0         Queens   \n",
       "\n",
       "  dropoff_borough  \n",
       "0       Manhattan  \n",
       "1       Manhattan  \n",
       "2       Manhattan  \n",
       "3       Manhattan  \n",
       "4       Manhattan  "
      ]
     },
     "execution_count": 37,
     "metadata": {},
     "output_type": "execute_result"
    }
   ],
   "source": [
    "merged_data.head()"
   ]
  },
  {
   "cell_type": "code",
   "execution_count": null,
   "metadata": {},
   "outputs": [
    {
     "name": "stdout",
     "output_type": "stream",
     "text": [
      "0    35.0\n",
      "1    77.5\n",
      "2    78.5\n",
      "3    76.0\n",
      "4    57.0\n",
      "Name: Tavg, dtype: float64\n"
     ]
    }
   ],
   "source": [
    "merged_data['Tavg'] = (merged_data['TMAX'] + merged_data['TMIN']) / 2\n",
    "merged_data.drop(columns=['TMAX', 'TMIN'], axis=1, inplace=True)\n",
    "# Verify the new column\n",
    "print(merged_data['Tavg'].head())\n",
    "\n"
   ]
  },
  {
   "cell_type": "code",
   "execution_count": null,
   "metadata": {},
   "outputs": [
    {
     "name": "stdout",
     "output_type": "stream",
     "text": [
      "  tpep_pickup_time tpep_dropoff_time\n",
      "0         08:57:09          09:17:38\n",
      "1         13:22:42          13:33:31\n",
      "2         18:28:00          18:45:10\n",
      "3         00:01:06          00:30:05\n",
      "4         12:38:17          13:11:12\n"
     ]
    }
   ],
   "source": [
    "# Convert datetime to just time (string format)\n",
    "merged_data['tpep_pickup_time'] = merged_data['tpep_pickup_datetime'].dt.time.astype(str)\n",
    "merged_data['tpep_dropoff_time'] = merged_data['tpep_dropoff_datetime'].dt.time.astype(str)\n",
    "\n",
    "# Remove leading and trailing spaces\n",
    "merged_data['tpep_pickup_time'] = merged_data['tpep_pickup_time'].apply(lambda x: x.strip())\n",
    "merged_data['tpep_dropoff_time'] = merged_data['tpep_dropoff_time'].apply(lambda x: x.strip())\n",
    "\n",
    "merged_data.drop(columns=['tpep_pickup_datetime', 'tpep_dropoff_datetime'], axis=1, inplace=True)\n",
    "# Verify the changes\n",
    "print(merged_data[['tpep_pickup_time', 'tpep_dropoff_time']].head())\n",
    "\n"
   ]
  },
  {
   "cell_type": "code",
   "execution_count": null,
   "metadata": {},
   "outputs": [
    {
     "data": {
      "text/plain": [
       "passenger_count       float64\n",
       "trip_distance         float64\n",
       "RatecodeID           category\n",
       "PULocationID            int64\n",
       "DOLocationID            int64\n",
       "payment_type         category\n",
       "total_amount          float64\n",
       "trip_duration         float64\n",
       "date                   object\n",
       "PRCP                  float64\n",
       "SNOW                  float64\n",
       "pickup_borough         object\n",
       "dropoff_borough        object\n",
       "Tavg                  float64\n",
       "tpep_pickup_time       object\n",
       "tpep_dropoff_time      object\n",
       "dtype: object"
      ]
     },
     "execution_count": 40,
     "metadata": {},
     "output_type": "execute_result"
    }
   ],
   "source": [
    "merged_data.dtypes"
   ]
  },
  {
   "cell_type": "code",
   "execution_count": null,
   "metadata": {},
   "outputs": [],
   "source": [
    "merged_data.drop(columns=['PULocationID', 'DOLocationID'], axis=1, inplace=True)"
   ]
  },
  {
   "cell_type": "code",
   "execution_count": null,
   "metadata": {},
   "outputs": [
    {
     "data": {
      "text/plain": [
       "passenger_count       float64\n",
       "trip_distance         float64\n",
       "RatecodeID           category\n",
       "payment_type         category\n",
       "total_amount          float64\n",
       "trip_duration         float64\n",
       "date                   object\n",
       "PRCP                  float64\n",
       "SNOW                  float64\n",
       "pickup_borough         object\n",
       "dropoff_borough        object\n",
       "Tavg                  float64\n",
       "tpep_pickup_time       object\n",
       "tpep_dropoff_time      object\n",
       "dtype: object"
      ]
     },
     "execution_count": 42,
     "metadata": {},
     "output_type": "execute_result"
    }
   ],
   "source": [
    "merged_data.dtypes"
   ]
  },
  {
   "cell_type": "code",
   "execution_count": null,
   "metadata": {},
   "outputs": [
    {
     "name": "stderr",
     "output_type": "stream",
     "text": [
      "C:\\Users\\varun\\AppData\\Local\\Temp\\ipykernel_23596\\3569604889.py:16: UserWarning: Could not infer format, so each element will be parsed individually, falling back to `dateutil`. To ensure parsing is consistent and as-expected, please specify a format.\n",
      "  merged_data['tpep_pickup_time'] = pd.to_datetime(merged_data['tpep_pickup_time'], errors='coerce')\n",
      "C:\\Users\\varun\\AppData\\Local\\Temp\\ipykernel_23596\\3569604889.py:17: UserWarning: Could not infer format, so each element will be parsed individually, falling back to `dateutil`. To ensure parsing is consistent and as-expected, please specify a format.\n",
      "  merged_data['tpep_dropoff_time'] = pd.to_datetime(merged_data['tpep_dropoff_time'], errors='coerce')\n"
     ]
    }
   ],
   "source": [
    "# Convert passenger_count to the smallest possible integer type\n",
    "merged_data['passenger_count'] = pd.to_numeric(merged_data['passenger_count'].fillna(0).astype(int), downcast='integer')\n",
    "\n",
    "# Convert date to datetime\n",
    "merged_data['date'] = pd.to_datetime(merged_data['date'])\n",
    "\n",
    "# Convert pickup_borough and dropoff_borough to category\n",
    "merged_data['pickup_borough'] = merged_data['pickup_borough'].astype('category')\n",
    "merged_data['dropoff_borough'] = merged_data['dropoff_borough'].astype('category')\n",
    "\n",
    "# Convert PRCP and SNOW to float32 for memory efficiency\n",
    "merged_data['PRCP'] = merged_data['PRCP'].astype('float32')\n",
    "merged_data['SNOW'] = merged_data['SNOW'].astype('float32')\n",
    "\n",
    "# Extract time from datetime\n",
    "merged_data['tpep_pickup_time'] = pd.to_datetime(merged_data['tpep_pickup_time'], errors='coerce')\n",
    "merged_data['tpep_dropoff_time'] = pd.to_datetime(merged_data['tpep_dropoff_time'], errors='coerce')\n",
    "merged_data['tpep_pickup_time'] = merged_data['tpep_pickup_time'].dt.time\n",
    "merged_data['tpep_dropoff_time'] = merged_data['tpep_dropoff_time'].dt.time\n",
    "\n"
   ]
  },
  {
   "cell_type": "code",
   "execution_count": null,
   "metadata": {},
   "outputs": [
    {
     "data": {
      "text/plain": [
       "passenger_count                int8\n",
       "trip_distance               float64\n",
       "RatecodeID                 category\n",
       "payment_type               category\n",
       "total_amount                float64\n",
       "trip_duration               float64\n",
       "date                 datetime64[ns]\n",
       "PRCP                        float32\n",
       "SNOW                        float32\n",
       "pickup_borough             category\n",
       "dropoff_borough            category\n",
       "Tavg                        float64\n",
       "tpep_pickup_time             object\n",
       "tpep_dropoff_time            object\n",
       "dtype: object"
      ]
     },
     "execution_count": 44,
     "metadata": {},
     "output_type": "execute_result"
    }
   ],
   "source": [
    "merged_data.dtypes"
   ]
  },
  {
   "cell_type": "code",
   "execution_count": null,
   "metadata": {},
   "outputs": [
    {
     "data": {
      "text/html": [
       "<div>\n",
       "<style scoped>\n",
       "    .dataframe tbody tr th:only-of-type {\n",
       "        vertical-align: middle;\n",
       "    }\n",
       "\n",
       "    .dataframe tbody tr th {\n",
       "        vertical-align: top;\n",
       "    }\n",
       "\n",
       "    .dataframe thead th {\n",
       "        text-align: right;\n",
       "    }\n",
       "</style>\n",
       "<table border=\"1\" class=\"dataframe\">\n",
       "  <thead>\n",
       "    <tr style=\"text-align: right;\">\n",
       "      <th></th>\n",
       "      <th>passenger_count</th>\n",
       "      <th>trip_distance</th>\n",
       "      <th>RatecodeID</th>\n",
       "      <th>payment_type</th>\n",
       "      <th>total_amount</th>\n",
       "      <th>trip_duration</th>\n",
       "      <th>date</th>\n",
       "      <th>PRCP</th>\n",
       "      <th>SNOW</th>\n",
       "      <th>pickup_borough</th>\n",
       "      <th>dropoff_borough</th>\n",
       "      <th>Tavg</th>\n",
       "      <th>tpep_pickup_time</th>\n",
       "      <th>tpep_dropoff_time</th>\n",
       "    </tr>\n",
       "  </thead>\n",
       "  <tbody>\n",
       "    <tr>\n",
       "      <th>0</th>\n",
       "      <td>1</td>\n",
       "      <td>3.79</td>\n",
       "      <td>1.0</td>\n",
       "      <td>1</td>\n",
       "      <td>24.36</td>\n",
       "      <td>20.483333</td>\n",
       "      <td>2022-12-14</td>\n",
       "      <td>0.00</td>\n",
       "      <td>0.0</td>\n",
       "      <td>Manhattan</td>\n",
       "      <td>Manhattan</td>\n",
       "      <td>35.0</td>\n",
       "      <td>08:57:09</td>\n",
       "      <td>09:17:38</td>\n",
       "    </tr>\n",
       "    <tr>\n",
       "      <th>1</th>\n",
       "      <td>1</td>\n",
       "      <td>2.08</td>\n",
       "      <td>1.0</td>\n",
       "      <td>1</td>\n",
       "      <td>15.36</td>\n",
       "      <td>10.816667</td>\n",
       "      <td>2022-08-28</td>\n",
       "      <td>0.00</td>\n",
       "      <td>0.0</td>\n",
       "      <td>Manhattan</td>\n",
       "      <td>Manhattan</td>\n",
       "      <td>77.5</td>\n",
       "      <td>13:22:42</td>\n",
       "      <td>13:33:31</td>\n",
       "    </tr>\n",
       "    <tr>\n",
       "      <th>2</th>\n",
       "      <td>3</td>\n",
       "      <td>2.08</td>\n",
       "      <td>1.0</td>\n",
       "      <td>1</td>\n",
       "      <td>18.30</td>\n",
       "      <td>17.166667</td>\n",
       "      <td>2022-07-29</td>\n",
       "      <td>0.10</td>\n",
       "      <td>0.0</td>\n",
       "      <td>Manhattan</td>\n",
       "      <td>Manhattan</td>\n",
       "      <td>78.5</td>\n",
       "      <td>18:28:00</td>\n",
       "      <td>18:45:10</td>\n",
       "    </tr>\n",
       "    <tr>\n",
       "      <th>3</th>\n",
       "      <td>1</td>\n",
       "      <td>18.24</td>\n",
       "      <td>2.0</td>\n",
       "      <td>1</td>\n",
       "      <td>60.60</td>\n",
       "      <td>28.983333</td>\n",
       "      <td>2022-07-26</td>\n",
       "      <td>0.00</td>\n",
       "      <td>0.0</td>\n",
       "      <td>Queens</td>\n",
       "      <td>Manhattan</td>\n",
       "      <td>76.0</td>\n",
       "      <td>00:01:06</td>\n",
       "      <td>00:30:05</td>\n",
       "    </tr>\n",
       "    <tr>\n",
       "      <th>4</th>\n",
       "      <td>2</td>\n",
       "      <td>9.12</td>\n",
       "      <td>1.0</td>\n",
       "      <td>1</td>\n",
       "      <td>41.60</td>\n",
       "      <td>32.916667</td>\n",
       "      <td>2022-04-08</td>\n",
       "      <td>0.03</td>\n",
       "      <td>0.0</td>\n",
       "      <td>Queens</td>\n",
       "      <td>Manhattan</td>\n",
       "      <td>57.0</td>\n",
       "      <td>12:38:17</td>\n",
       "      <td>13:11:12</td>\n",
       "    </tr>\n",
       "  </tbody>\n",
       "</table>\n",
       "</div>"
      ],
      "text/plain": [
       "   passenger_count  trip_distance RatecodeID payment_type  total_amount  \\\n",
       "0                1           3.79        1.0            1         24.36   \n",
       "1                1           2.08        1.0            1         15.36   \n",
       "2                3           2.08        1.0            1         18.30   \n",
       "3                1          18.24        2.0            1         60.60   \n",
       "4                2           9.12        1.0            1         41.60   \n",
       "\n",
       "   trip_duration       date  PRCP  SNOW pickup_borough dropoff_borough  Tavg  \\\n",
       "0      20.483333 2022-12-14  0.00   0.0      Manhattan       Manhattan  35.0   \n",
       "1      10.816667 2022-08-28  0.00   0.0      Manhattan       Manhattan  77.5   \n",
       "2      17.166667 2022-07-29  0.10   0.0      Manhattan       Manhattan  78.5   \n",
       "3      28.983333 2022-07-26  0.00   0.0         Queens       Manhattan  76.0   \n",
       "4      32.916667 2022-04-08  0.03   0.0         Queens       Manhattan  57.0   \n",
       "\n",
       "  tpep_pickup_time tpep_dropoff_time  \n",
       "0         08:57:09          09:17:38  \n",
       "1         13:22:42          13:33:31  \n",
       "2         18:28:00          18:45:10  \n",
       "3         00:01:06          00:30:05  \n",
       "4         12:38:17          13:11:12  "
      ]
     },
     "execution_count": 45,
     "metadata": {},
     "output_type": "execute_result"
    }
   ],
   "source": [
    "merged_data.head()"
   ]
  },
  {
   "cell_type": "code",
   "execution_count": null,
   "metadata": {},
   "outputs": [
    {
     "data": {
      "text/plain": [
       "passenger_count                int8\n",
       "trip_distance               float64\n",
       "RatecodeID                 category\n",
       "payment_type               category\n",
       "total_amount                float64\n",
       "trip_duration               float64\n",
       "date                 datetime64[ns]\n",
       "PRCP                        float32\n",
       "SNOW                        float32\n",
       "pickup_borough             category\n",
       "dropoff_borough            category\n",
       "Tavg                        float64\n",
       "tpep_pickup_time             object\n",
       "tpep_dropoff_time            object\n",
       "dtype: object"
      ]
     },
     "execution_count": 46,
     "metadata": {},
     "output_type": "execute_result"
    }
   ],
   "source": [
    "merged_data.dtypes"
   ]
  },
  {
   "cell_type": "code",
   "execution_count": null,
   "metadata": {},
   "outputs": [],
   "source": [
    "merged_data.to_csv('merged_dataset.csv', index= False)"
   ]
  }
 ],
 "metadata": {
  "kernelspec": {
   "display_name": "base",
   "language": "python",
   "name": "python3"
  },
  "language_info": {
   "codemirror_mode": {
    "name": "ipython",
    "version": 3
   },
   "file_extension": ".py",
   "mimetype": "text/x-python",
   "name": "python",
   "nbconvert_exporter": "python",
   "pygments_lexer": "ipython3",
   "version": "3.11.5"
  }
 },
 "nbformat": 4,
 "nbformat_minor": 2
}
